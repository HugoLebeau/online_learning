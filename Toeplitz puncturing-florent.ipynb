{
 "cells": [
  {
   "cell_type": "code",
   "execution_count": null,
   "id": "26325901",
   "metadata": {},
   "outputs": [],
   "source": [
    "import numpy as np\n",
    "import matplotlib.pyplot as plt\n",
    "import scipy.stats as stats\n",
    "\n",
    "import punct_utils as utils\n",
    "\n",
    "plt.style.use(\"default\")\n",
    "plt.rcParams[\"text.usetex\"] = False\n",
    "np.random.seed(14159)\n",
    "\n",
    "%load_ext autoreload\n",
    "%autoreload 2"
   ]
  },
  {
   "cell_type": "markdown",
   "id": "c2a3e045",
   "metadata": {},
   "source": [
    "# Set parameters"
   ]
  },
  {
   "cell_type": "code",
   "execution_count": null,
   "id": "d8c4e677",
   "metadata": {},
   "outputs": [],
   "source": [
    "p = 500  # dimension\n",
    "n = 2000  # sample size\n",
    "L = 250  # band size\n",
    "\n",
    "k = 2  # number of classes\n",
    "pi = np.array([0.5, 0.5])  # proportion of each class\n",
    "# centroid of each class\n",
    "mu = stats.norm.rvs(size=(p, 1))\n",
    "mu = 10 * mu / np.linalg.norm(mu)\n",
    "M = np.concatenate([+mu, -mu], axis=1)\n",
    "\n",
    "\n",
    "nbMC = 1  # number of Monte-Carlo simulations\n",
    "n_eigvecs = 20  # number of computed eigenvectors"
   ]
  },
  {
   "cell_type": "code",
   "execution_count": null,
   "id": "0a49bfa7",
   "metadata": {},
   "outputs": [],
   "source": [
    "c = p / n  # size ratio\n",
    "beta = L / p\n",
    "\n",
    "# size of each class\n",
    "n_ = np.round(n * pi).astype(int)\n",
    "n_[0] += n - np.sum(n_)\n",
    "\n",
    "J = np.zeros((n, k), dtype=int)\n",
    "sum_n = 0\n",
    "for i, ni in enumerate(n_):\n",
    "    J[sum_n : sum_n + ni, i] = 1\n",
    "    sum_n += ni\n",
    "np.random.shuffle(J)\n",
    "\n",
    "setting = \"$n = {} \\quad c = {} \\quad L/p = {}$\".format(n, c, beta)"
   ]
  },
  {
   "cell_type": "markdown",
   "id": "a72e9d14",
   "metadata": {},
   "source": [
    "# Computations"
   ]
  },
  {
   "cell_type": "code",
   "execution_count": null,
   "id": "cb4f6126",
   "metadata": {},
   "outputs": [],
   "source": [
    "# Simulations\n",
    "eigvals_t, eigvecs_t = utils.simul(\n",
    "    nbMC, p, n, k, M, J, L, mask=\"toeplitz\", comp=False, n_eigvecs=n_eigvecs\n",
    ")"
   ]
  },
  {
   "cell_type": "code",
   "execution_count": null,
   "id": "19d9a255",
   "metadata": {},
   "outputs": [],
   "source": [
    "M_wo = np.ones((p, 1))\n",
    "J_wo = np.ones((n, 1))\n",
    "eigvals_t_wo, eigvecs_t_wo = utils.simul(\n",
    "    nbMC, p, n, k, M_wo, J_wo, L, mask=\"toeplitz\", comp=False, n_eigvecs=n_eigvecs, noise=False\n",
    ")"
   ]
  },
  {
   "cell_type": "markdown",
   "id": "11665781",
   "metadata": {},
   "source": [
    "# Visualisation"
   ]
  },
  {
   "cell_type": "code",
   "execution_count": null,
   "id": "17c0ffa7",
   "metadata": {},
   "outputs": [],
   "source": [
    "if k == 2:\n",
    "    f, ax = plt.subplots(4,5, figsize=(12,8))\n",
    "    for i in range(n_eigvecs):\n",
    "        # Ensure that the first class has a greater mean component\n",
    "        u_sgn_0 = np.sign(eigvecs_t_wo[0, i, J[:, 0] == 1].mean()-eigvecs_t_wo[0, i, J[:, 1] == 1].mean())\n",
    "        u_sgn = np.sign(u_sgn_0*(eigvecs_t_wo[:, i, :]@eigvecs_t_wo[0, i, :]))\n",
    "        u = eigvecs_t_wo[:, i, :]*u_sgn.reshape((nbMC, 1))\n",
    "        # Plot\n",
    "        ax[i//5,i%5].plot(u.mean(axis=0), marker='.', ls='')\n",
    "        ax[i//5,i%5].grid(ls=':')\n",
    "        ax[i//5,i%5].set_title(\"vep {}\".format(i+1))\n",
    "    f.suptitle('noiseless spike with toeplitz mask ' +setting)\n",
    "    f.tight_layout()\n",
    "    f.show() \n",
    "    \n",
    "    f, ax = plt.subplots(4,5, figsize=(12,8))\n",
    "    for i in range(n_eigvecs):\n",
    "        # Ensure that the first class has a greater mean component\n",
    "        u_sgn_0 = np.sign(eigvecs_t[0, i, J[:, 0] == 1].mean()-eigvecs_t[0, i, J[:, 1] == 1].mean())\n",
    "        u_sgn = np.sign(u_sgn_0*(eigvecs_t[:, i, :]@eigvecs_t[0, i, :]))\n",
    "        u = eigvecs_t[:, i, :]*u_sgn.reshape((nbMC, 1))\n",
    "        # Plot\n",
    "        ax[i//5,i%5].plot(u.mean(axis=0), marker='.', ls='')\n",
    "        ax[i//5,i%5].grid(ls=':')\n",
    "        ax[i//5,i%5].set_title(\"vep {}\".format(i+1))\n",
    "    f.suptitle('noise + spike with toeplitz mask ' +setting)\n",
    "    f.tight_layout()\n",
    "    f.show()"
   ]
  },
  {
   "cell_type": "code",
   "execution_count": null,
   "id": "a50504b5",
   "metadata": {},
   "outputs": [],
   "source": [
    "import scipy.linalg as linalg\n",
    "\n",
    "neigs_F = 20\n",
    "neigs_U = 20"
   ]
  },
  {
   "cell_type": "code",
   "execution_count": null,
   "id": "efc23b67",
   "metadata": {},
   "outputs": [],
   "source": [
    "F = eigvecs_t_wo[0, :neigs_F, :]\n",
    "# F = linalg.dft(n, scale='sqrtn')[:neigs_F].real\n",
    "U = eigvecs_t[0, :neigs_U, :]\n",
    "print(U.shape)\n",
    "u_1 = (np.eye(n) - (U.T) @ U) @ np.ones((n, 1)) / np.sqrt(n)\n",
    "#U = np.concatenate((U, u_1.T), axis=0)\n",
    "Pi_perp = np.eye(n) - U.T @ U\n",
    "S = Pi_perp * (F.T @ F)"
   ]
  },
  {
   "cell_type": "code",
   "execution_count": null,
   "id": "211c1a4c",
   "metadata": {},
   "outputs": [],
   "source": [
    "j = J[:, 0] - J[:, 1]"
   ]
  },
  {
   "cell_type": "code",
   "execution_count": null,
   "id": "b5e49d06",
   "metadata": {
    "scrolled": true
   },
   "outputs": [],
   "source": [
    "v, b = linalg.eigh(S, subset_by_index=[0, 0])\n",
    "b = b.ravel()\n",
    "j_est = np.sign(b.reshape(-1).real) * np.sign( j @ b.ravel() )\n",
    "print(v)\n",
    "\n",
    "score = min(np.sum(j_est != j), np.sum(j_est == j)) / n\n",
    "mcr = min(score, 1 / 2 - score)\n",
    "print('mcr == {}%'.format(score))"
   ]
  },
  {
   "cell_type": "code",
   "execution_count": null,
   "id": "bc2227a5",
   "metadata": {},
   "outputs": [],
   "source": [
    "plt.plot(b, ls=\"\", marker=\".\")\n",
    "plt.grid(ls=\":\")\n",
    "plt.title(setting)\n",
    "plt.ylim(-2 / np.sqrt(n), 2 / np.sqrt(n))\n",
    "plt.show()"
   ]
  },
  {
   "cell_type": "code",
   "execution_count": null,
   "id": "2276f96d",
   "metadata": {},
   "outputs": [],
   "source": []
  }
 ],
 "metadata": {
  "kernelspec": {
   "display_name": "Python 3",
   "language": "python",
   "name": "python3"
  },
  "language_info": {
   "codemirror_mode": {
    "name": "ipython",
    "version": 3
   },
   "file_extension": ".py",
   "mimetype": "text/x-python",
   "name": "python",
   "nbconvert_exporter": "python",
   "pygments_lexer": "ipython3",
   "version": "3.8.8"
  },
  "widgets": {
   "application/vnd.jupyter.widget-state+json": {
    "state": {},
    "version_major": 2,
    "version_minor": 0
   }
  }
 },
 "nbformat": 4,
 "nbformat_minor": 5
}
