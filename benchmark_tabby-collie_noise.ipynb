{
 "cells": [
  {
   "cell_type": "code",
   "execution_count": null,
   "metadata": {},
   "outputs": [],
   "source": [
    "import numpy as np\n",
    "import online_utils as utils\n",
    "import matplotlib.pyplot as plt\n",
    "import pycle.sketching as sk\n",
    "import pycle.compressive_learning as cl\n",
    "from tqdm import tqdm\n",
    "from scipy.spatial.distance import cdist\n",
    "from scipy.sparse.linalg import eigsh\n",
    "from sklearn.datasets import fetch_openml\n",
    "\n",
    "plt.style.use('default')\n",
    "plt.rcParams[\"text.usetex\"] = True\n",
    "np.random.seed(14159)"
   ]
  },
  {
   "cell_type": "markdown",
   "metadata": {},
   "source": [
    "# Initialisation"
   ]
  },
  {
   "cell_type": "code",
   "execution_count": null,
   "metadata": {},
   "outputs": [],
   "source": [
    "folder = 'data/'\n",
    "classes = ['collie', 'tabby']\n",
    "k = len(classes)\n",
    "\n",
    "# Load features\n",
    "features = [open(folder+'{}_features.csv'.format(cl), 'r') for cl in classes]\n",
    "\n",
    "# Get data dimension\n",
    "p = len(features[0].readline().rstrip().split(' '))\n",
    "features[0].seek(0)\n",
    "\n",
    "# Get data length\n",
    "cl_len = np.zeros(k, dtype=int)\n",
    "for i, f in enumerate(features):\n",
    "    cl_len[i] = sum(1 for line in f)\n",
    "    f.seek(0)\n",
    "T = np.sum(cl_len)\n",
    "\n",
    "# Define data pipeline\n",
    "y = np.repeat(range(k), cl_len)\n",
    "np.random.shuffle(y)\n",
    "get_data = lambda t: np.array(features[y[t]].readline().rstrip().split(' '), dtype=float)\n",
    "\n",
    "# Load dataset\n",
    "X = np.zeros((T, p))\n",
    "for t in tqdm(range(T)):\n",
    "    X[t] = get_data(t)\n",
    "X -= np.mean(X, axis=0) # centering\n",
    "\n",
    "# Close files\n",
    "for f in features:\n",
    "    f.close()"
   ]
  },
  {
   "cell_type": "code",
   "execution_count": null,
   "metadata": {},
   "outputs": [],
   "source": [
    "# Memory\n",
    "M = 1000000"
   ]
  },
  {
   "cell_type": "code",
   "execution_count": null,
   "metadata": {},
   "outputs": [],
   "source": [
    "noise_level = 70\n",
    "X0 = X.copy() # save X\n",
    "X = X0+noise_level*np.random.randn(*X0.shape) # add noise"
   ]
  },
  {
   "cell_type": "code",
   "execution_count": null,
   "metadata": {},
   "outputs": [],
   "source": [
    "y_est = np.zeros((4, y.size), dtype=int)\n",
    "c_err = np.zeros(4)"
   ]
  },
  {
   "cell_type": "markdown",
   "metadata": {},
   "source": [
    "# Computations"
   ]
  },
  {
   "cell_type": "code",
   "execution_count": null,
   "metadata": {},
   "outputs": [],
   "source": [
    "# Offline\n",
    "K = X@X.T/p # kernel matrix\n",
    "eigvals, eigvecs = eigsh(K, k=1, which='LA') # dominant eigenvalue/eigenvector\n",
    "y_est[0] = np.where(eigvecs[:, -1] > 0, 0, 1) # class estimation\n",
    "c_err[0], _, _ = utils.get_classif_error(k, y_est[0], y)"
   ]
  },
  {
   "cell_type": "code",
   "execution_count": null,
   "metadata": {},
   "outputs": [],
   "source": [
    "# Streaming\n",
    "n, L = utils.best_nL(M, p)\n",
    "print(\"n = {}\\nL = {}\".format(n, L))\n",
    "\n",
    "class_count, (lbda, w, partition_ite, time_ite) = utils.pm1_streaming((lambda t: X[t]), T, n, p, L, k)\n",
    "y_est[1] = np.argmax(class_count, axis=1) # estimate classes via majority vote\n",
    "c_err[1], _, _ = utils.get_classif_error(k, y_est[1], y)"
   ]
  },
  {
   "cell_type": "code",
   "execution_count": null,
   "metadata": {},
   "outputs": [],
   "source": [
    "t = T//2\n",
    "xx = np.arange(n)\n",
    "for j in range(k):\n",
    "    mask = (y[t-n+1:t+1] == j)\n",
    "    plt.plot(xx[mask], w[t][mask], ls='', marker='.', color='C'+str(j))\n",
    "plt.title(\"Top eigenvector\")\n",
    "plt.grid(ls=':')"
   ]
  },
  {
   "cell_type": "code",
   "execution_count": null,
   "metadata": {},
   "outputs": [],
   "source": [
    "# Batch\n",
    "L_ = int(np.round((p/2)*(np.sqrt(1+4*M/(p*p))-1)))\n",
    "print(\"L' = {}\".format(L_))\n",
    "\n",
    "for i in tqdm(range(int(np.ceil(T/L_)))):\n",
    "    subX = X[i*L_:(i+1)*L_]\n",
    "    subK = subX@subX.T/p # kernel matrix\n",
    "    eigvals, eigvecs = eigsh(subK, k=1, which='LA') # dominant eigenvalue/eigenvector\n",
    "    y_est[2][i*L_:(i+1)*L_] = np.where(eigvecs[:, -1] > 0, 0, 1) # class estimation\n",
    "    _, per, _ = utils.get_classif_error(k, y_est[2][i*L_:(i+1)*L_], y[i*L_:(i+1)*L_])\n",
    "    y_est[2][i*L_:(i+1)*L_] = per[y_est[2][i*L_:(i+1)*L_]]\n",
    "c_err[2], _, _ = utils.get_classif_error(k, y_est[2], y)"
   ]
  },
  {
   "cell_type": "code",
   "execution_count": null,
   "metadata": {},
   "outputs": [],
   "source": [
    "# Sketching\n",
    "X_bounded = (2*X-X.max()-X.min())/(X.max()-X.min()) # bound between -1 and 1\n",
    "bounds = np.array([-np.ones(p), np.ones(p)])\n",
    "\n",
    "Sigma = sk.estimate_Sigma(X_bounded, m0=200, n0=X_bounded.shape[0]//10, verbose=1)\n",
    "Omega = sk.drawFrequencies(\"FoldedGaussian\", p, M, Sigma)\n",
    "Phi = sk.SimpleFeatureMap(\"ComplexExponential\", Omega)\n",
    "\n",
    "print(\"Computing sketch...\", end='')\n",
    "z = sk.computeSketch(X_bounded, Phi)\n",
    "print(\" Done.\")\n",
    "\n",
    "solver = cl.CLOMP_CKM(Phi, k, bounds, z)\n",
    "print(\"Fitting k-means...\", end='')\n",
    "solver.fit_once()\n",
    "print(\" Done.\")\n",
    "centroids = solver.get_centroids()\n",
    "\n",
    "dist = cdist(centroids, X_bounded, metric='euclidean')\n",
    "y_est[3] = np.argmin(dist, axis=0)\n",
    "c_err[3], _, _ = utils.get_classif_error(k, y_est[3], y)"
   ]
  },
  {
   "cell_type": "markdown",
   "metadata": {},
   "source": [
    "# Results"
   ]
  },
  {
   "cell_type": "code",
   "execution_count": null,
   "metadata": {},
   "outputs": [],
   "source": [
    "print(\"{} vs {}\".format(classes[0], classes[1]))\n",
    "print(\"Offline   \\t {:.5%}\".format(c_err[0]))\n",
    "print(\"Online    \\t {:.5%}\".format(c_err[1]))\n",
    "print(\"Batch     \\t {:.5%}\".format(c_err[2]))\n",
    "print(\"Sketching \\t {:.5%}\".format(c_err[3]))"
   ]
  }
 ],
 "metadata": {
  "kernelspec": {
   "display_name": "Python 3.8.13 ('base')",
   "language": "python",
   "name": "python3"
  },
  "language_info": {
   "codemirror_mode": {
    "name": "ipython",
    "version": 3
   },
   "file_extension": ".py",
   "mimetype": "text/x-python",
   "name": "python",
   "nbconvert_exporter": "python",
   "pygments_lexer": "ipython3",
   "version": "3.8.13"
  },
  "orig_nbformat": 4,
  "vscode": {
   "interpreter": {
    "hash": "40fec132be45285d8885cd7f2a866885d45264eabd685d7f7730b14fcd5c613b"
   }
  }
 },
 "nbformat": 4,
 "nbformat_minor": 2
}
