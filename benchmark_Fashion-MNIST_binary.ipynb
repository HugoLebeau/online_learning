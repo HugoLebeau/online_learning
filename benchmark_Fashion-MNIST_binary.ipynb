{
 "cells": [
  {
   "cell_type": "code",
   "execution_count": 1,
   "metadata": {},
   "outputs": [],
   "source": [
    "import numpy as np\n",
    "import online_utils as utils\n",
    "import matplotlib.pyplot as plt\n",
    "import pycle.sketching as sk\n",
    "import pycle.compressive_learning as cl\n",
    "from tqdm import tqdm\n",
    "from scipy.spatial.distance import cdist\n",
    "from scipy.sparse.linalg import eigsh\n",
    "from sklearn.datasets import fetch_openml\n",
    "\n",
    "plt.style.use('default')\n",
    "plt.rcParams[\"text.usetex\"] = True\n",
    "np.random.seed(14159)"
   ]
  },
  {
   "cell_type": "markdown",
   "metadata": {},
   "source": [
    "# Initialisation"
   ]
  },
  {
   "cell_type": "code",
   "execution_count": 2,
   "metadata": {},
   "outputs": [],
   "source": [
    "# Load dataset\n",
    "X_, y_ = fetch_openml('Fashion-MNIST', return_X_y=True)\n",
    "X_, y_ = X_.values, y_.values.astype(int)\n",
    "num_classes = {0: \"T-shirt/top\", 1: \"Trouser\", 2: \"Pullover\", 3: \"Dress\", 4: \"Coat\", 5: \"Sandal\", 6: \"Shirt\", 7: \"Sneaker\", 8: \"Bag\", 9: \"Ankle boot\"}"
   ]
  },
  {
   "cell_type": "code",
   "execution_count": 3,
   "metadata": {},
   "outputs": [],
   "source": [
    "classes = [4, 9]\n",
    "k = len(classes)\n",
    "\n",
    "mask = np.zeros(y_.shape[0], dtype=bool)\n",
    "for j in classes:\n",
    "    mask |= (y_ == j)\n",
    "X, y = X_[mask], y_[mask]\n",
    "X -= np.mean(X, axis=0) # centering\n",
    "for i, j in enumerate(np.sort(classes)):\n",
    "    y[y == j] = i\n",
    "T, p = X.shape"
   ]
  },
  {
   "cell_type": "code",
   "execution_count": 4,
   "metadata": {},
   "outputs": [],
   "source": [
    "# Memory\n",
    "M = 24000"
   ]
  },
  {
   "cell_type": "code",
   "execution_count": 5,
   "metadata": {},
   "outputs": [],
   "source": [
    "y_est = np.zeros((4, y.size), dtype=int)\n",
    "c_err = np.zeros(4)"
   ]
  },
  {
   "cell_type": "markdown",
   "metadata": {},
   "source": [
    "# Computations"
   ]
  },
  {
   "cell_type": "code",
   "execution_count": 6,
   "metadata": {},
   "outputs": [],
   "source": [
    "# Offline\n",
    "K = X@X.T/p # kernel matrix\n",
    "eigvals, eigvecs = eigsh(K, k=1, which='LA') # dominant eigenvalue/eigenvector\n",
    "y_est[0] = np.where(eigvecs[:, -1] > 0, 0, 1) # class estimation\n",
    "c_err[0], _, _ = utils.get_classif_error(k, y_est[0], y)"
   ]
  },
  {
   "cell_type": "code",
   "execution_count": 7,
   "metadata": {},
   "outputs": [
    {
     "name": "stdout",
     "output_type": "stream",
     "text": [
      "n = 82\n",
      "L = 28\n"
     ]
    },
    {
     "name": "stderr",
     "output_type": "stream",
     "text": [
      "100%|██████████| 14000/14000 [00:55<00:00, 254.46it/s]\n"
     ]
    }
   ],
   "source": [
    "# Streaming\n",
    "n, L = utils.best_nL(M, p)\n",
    "print(\"n = {}\\nL = {}\".format(n, L))\n",
    "\n",
    "class_count, (lbda, w, partition_ite, time_ite) = utils.pm1_streaming((lambda t: X[t]), T, n, p, L, k)\n",
    "y_est[1] = np.argmax(class_count, axis=1) # estimate classes via majority vote\n",
    "c_err[1], _, _ = utils.get_classif_error(k, y_est[1], y)"
   ]
  },
  {
   "cell_type": "code",
   "execution_count": 8,
   "metadata": {},
   "outputs": [
    {
     "data": {
      "image/png": "[encoded data removed]",
      "text/plain": [
       "<Figure size 640x480 with 1 Axes>"
      ]
     },
     "metadata": {},
     "output_type": "display_data"
    }
   ],
   "source": [
    "t = T//2\n",
    "xx = np.arange(n)\n",
    "for j in range(k):\n",
    "    mask = (y[t-n+1:t+1] == j)\n",
    "    plt.plot(xx[mask], w[t][mask], ls='', marker='.', color='C'+str(j))\n",
    "plt.title(\"Top eigenvector\")\n",
    "plt.grid(ls=':')"
   ]
  },
  {
   "cell_type": "code",
   "execution_count": 9,
   "metadata": {},
   "outputs": [
    {
     "name": "stdout",
     "output_type": "stream",
     "text": [
      "L' = 30\n"
     ]
    },
    {
     "name": "stderr",
     "output_type": "stream",
     "text": [
      "100%|██████████| 467/467 [00:00<00:00, 1098.59it/s]\n"
     ]
    }
   ],
   "source": [
    "# Batch\n",
    "L_ = int(np.round((p/2)*(np.sqrt(1+4*M/(p*p))-1)))\n",
    "print(\"L' = {}\".format(L_))\n",
    "\n",
    "for i in tqdm(range(int(np.ceil(T/L_)))):\n",
    "    subX = X[i*L_:(i+1)*L_]\n",
    "    subK = subX@subX.T/p # kernel matrix\n",
    "    eigvals, eigvecs = eigsh(subK, k=1, which='LA') # dominant eigenvalue/eigenvector\n",
    "    y_est[2][i*L_:(i+1)*L_] = np.where(eigvecs[:, -1] > 0, 0, 1) # class estimation\n",
    "    _, per, _ = utils.get_classif_error(k, y_est[2][i*L_:(i+1)*L_], y[i*L_:(i+1)*L_])\n",
    "    y_est[2][i*L_:(i+1)*L_] = per[y_est[2][i*L_:(i+1)*L_]]\n",
    "c_err[2], _, _ = utils.get_classif_error(k, y_est[2], y)"
   ]
  },
  {
   "cell_type": "code",
   "execution_count": 10,
   "metadata": {},
   "outputs": [],
   "source": [
    "# Sketching\n",
    "# Sigma = sk.estimate_Sigma(X, 200, c=1, n0=n//50, verbose=1)\n",
    "# Omega = sk.drawFrequencies(\"AdaptedRadius\", p, M, Sigma)\n",
    "# xi = sk.drawDithering(M)\n",
    "# Phi = sk.SimpleFeatureMap(\"ComplexExponential\", Omega)\n",
    "\n",
    "# print(\"Computing sketch...\", end='')\n",
    "# z = sk.computeSketch(X, Phi)\n",
    "# print(\" Done.\")\n",
    "\n",
    "# bounds = np.array([X.min(axis=0), X.max(axis=0)])\n",
    "# solver = cl.CLOMP_CKM(Phi, k, bounds, z)\n",
    "# print(\"Fitting k-means...\", end='')\n",
    "# solver.fit_several_times(3)\n",
    "# print(\" Done.\")\n",
    "# centroids = solver.get_centroids()\n",
    "\n",
    "# dist = cdist(centroids, X, metric='euclidean')\n",
    "# y_est[3] = np.argmin(dist, axis=0)\n",
    "# c_err[3], _, _ = utils.get_classif_error(k, y_est[3], y)"
   ]
  },
  {
   "cell_type": "markdown",
   "metadata": {},
   "source": [
    "# Results"
   ]
  },
  {
   "cell_type": "code",
   "execution_count": 11,
   "metadata": {},
   "outputs": [
    {
     "name": "stdout",
     "output_type": "stream",
     "text": [
      "Coat vs Ankle boot\n",
      "Offline   \t 3.25000%\n",
      "Online    \t 3.30714%\n",
      "Batch     \t 3.37857%\n",
      "Sketching \t 0.00000%\n"
     ]
    }
   ],
   "source": [
    "print(\"{} vs {}\".format(num_classes[classes[0]], num_classes[classes[1]]))\n",
    "print(\"Offline   \\t {:.5%}\".format(c_err[0]))\n",
    "print(\"Online    \\t {:.5%}\".format(c_err[1]))\n",
    "print(\"Batch     \\t {:.5%}\".format(c_err[2]))\n",
    "print(\"Sketching \\t {:.5%}\".format(c_err[3]))"
   ]
  }
 ],
 "metadata": {
  "kernelspec": {
   "display_name": "Python 3.8.13 ('base')",
   "language": "python",
   "name": "python3"
  },
  "language_info": {
   "codemirror_mode": {
    "name": "ipython",
    "version": 3
   },
   "file_extension": ".py",
   "mimetype": "text/x-python",
   "name": "python",
   "nbconvert_exporter": "python",
   "pygments_lexer": "ipython3",
   "version": "3.8.13"
  },
  "orig_nbformat": 4,
  "vscode": {
   "interpreter": {
    "hash": "40fec132be45285d8885cd7f2a866885d45264eabd685d7f7730b14fcd5c613b"
   }
  }
 },
 "nbformat": 4,
 "nbformat_minor": 2
}
